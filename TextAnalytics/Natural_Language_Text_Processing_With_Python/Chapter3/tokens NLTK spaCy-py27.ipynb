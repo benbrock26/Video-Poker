{
 "cells": [
  {
   "cell_type": "markdown",
   "metadata": {},
   "source": [
    "# Tokenization in NLTK"
   ]
  },
  {
   "cell_type": "code",
   "execution_count": 1,
   "metadata": {},
   "outputs": [
    {
     "name": "stdout",
     "output_type": "stream",
     "text": [
      "['The', 'chicken', 'danced', 'because', 'she', 'loved', 'disco', '.']\n"
     ]
    }
   ],
   "source": [
    "from nltk.tokenize import word_tokenize\n",
    "text1 = \"The chicken danced because she loved disco.\"\n",
    "tokens = word_tokenize(text1)\n",
    "print(tokens)"
   ]
  },
  {
   "cell_type": "code",
   "execution_count": 2,
   "metadata": {},
   "outputs": [
    {
     "name": "stdout",
     "output_type": "stream",
     "text": [
      "['Mr.', 'Smith', 'loves', 'tacos', '.', 'He', 'has', 'a', 'Ph.D.', 'in', 'tacology', '.']\n"
     ]
    }
   ],
   "source": [
    "# notice that 'Mr.' is one token but 'tacology.' is two tokens.\n",
    "text2 = \"Mr. Smith loves tacos. He has a Ph.D. in tacology.\"\n",
    "tokens = word_tokenize(text2)\n",
    "print(tokens)"
   ]
  },
  {
   "cell_type": "markdown",
   "metadata": {},
   "source": [
    "# Tokenization in spaCy"
   ]
  },
  {
   "cell_type": "code",
   "execution_count": null,
   "metadata": {
    "collapsed": true
   },
   "outputs": [],
   "source": [
    "from spacy.en import English\n",
    "parser = English()\n",
    "tokens = parser(text1)\n",
    "tokens = [token.orth_ for token in tokens if not token.orth_.isspace()]\n",
    "print(tokens)"
   ]
  },
  {
   "cell_type": "code",
   "execution_count": 5,
   "metadata": {
    "collapsed": true
   },
   "outputs": [],
   "source": [
    "# A lot of times you will get text from some unknown encoding. \n",
    "# UTF-8 is the most common representation.\n",
    "# If you need to catch errros, you can remove errors='ignore'\n",
    "def convert_unicode(text):\n",
    "    if isinstance(text,str):\n",
    "        return text.decode('utf-8',errors='ignore')\n",
    "    else:\n",
    "        return text"
   ]
  },
  {
   "cell_type": "code",
   "execution_count": 6,
   "metadata": {},
   "outputs": [
    {
     "name": "stdout",
     "output_type": "stream",
     "text": [
      "[u'The', u'chicken', u'danced', u'because', u'she', u'loved', u'disco', u'.']\n"
     ]
    }
   ],
   "source": [
    "import spacy\n",
    "parser = spacy.load('en')\n",
    "tokens = parser(convert_unicode(text1))\n",
    "tokens = [token.orth_ for token in tokens if not token.orth_.isspace()]\n",
    "print(tokens)"
   ]
  },
  {
   "cell_type": "code",
   "execution_count": 8,
   "metadata": {},
   "outputs": [
    {
     "name": "stdout",
     "output_type": "stream",
     "text": [
      "[u'Mr.', u'Smith', u'loves', u'tacos', u'.', u'He', u'has', u'a', u'Ph.D.', u'in', u'tacology', u'.']\n"
     ]
    }
   ],
   "source": [
    "# Here we see why spaCy made the sentence segmentation error in the previous lesson\n",
    "tokens = parser(convert_unicode(text2))\n",
    "tokens = [token.orth_ for token in tokens if not token.orth_.isspace()]\n",
    "print(tokens)"
   ]
  },
  {
   "cell_type": "code",
   "execution_count": 5,
   "metadata": {},
   "outputs": [
    {
     "name": "stdout",
     "output_type": "stream",
     "text": [
      "['Mr.', 'Smith', 'loves', 'tacos', '.', 'He', 'has', 'a', 'Ph.D.', 'in', 'tacology', '.']\n"
     ]
    }
   ],
   "source": [
    "# It can be fixed with a little effort https://github.com/explosion/spaCy/issues/592\n",
    "import spacy\n",
    "text = \"He has a Ph.D. in tacology.\"\n",
    "spacy.en.English.Defaults.tokenizer_exceptions[\"Ph.D.\"] = [{\"F\": \"Ph.D.\"}]\n",
    "parser = English()\n",
    "tokens = parser(text2)\n",
    "tokens = [token.orth_ for token in tokens if not token.orth_.isspace()]\n",
    "print(tokens)"
   ]
  },
  {
   "cell_type": "code",
   "execution_count": 22,
   "metadata": {},
   "outputs": [
    {
     "name": "stdout",
     "output_type": "stream",
     "text": [
      "[u'Mr.', u'Smith', u'loves', u'tacos', u'.', u'He', u'has', u'a', u'Ph.D.', u'in', u'tacology', u'.']\n"
     ]
    }
   ],
   "source": [
    "# It can be fixed with a little effort https://github.com/explosion/spaCy/issues/592\n",
    "import spacy\n",
    "text = \"He has a Ph.D. in tacology.\"\n",
    "nlp = spacy.load('en')\n",
    "nlp.Defaults.tokenizer_exceptions[\"Ph.D.\"] = [{\"F\": \"Ph.D.\"}]\n",
    "#spacy.lang.tokenizer_exceptions[\"Ph.D.\"] = [{\"F\": \"Ph.D.\"}]\n",
    "#parser = English()\n",
    "tokens = parser(convert_unicode((text2)))\n",
    "tokens = [token.orth_ for token in tokens if not token.orth_.isspace()]\n",
    "print tokens"
   ]
  },
  {
   "cell_type": "code",
   "execution_count": 15,
   "metadata": {
    "collapsed": true
   },
   "outputs": [],
   "source": [
    "nlp = spacy.load('en')\n",
    "nlp.Defaults.tokenizer_exceptions[\"Ph.D.\"] = [{\"F\": \"Ph.D.\"}]"
   ]
  },
  {
   "cell_type": "code",
   "execution_count": 23,
   "metadata": {},
   "outputs": [
    {
     "data": {
      "text/plain": [
       "['__add__',\n",
       " '__class__',\n",
       " '__contains__',\n",
       " '__delattr__',\n",
       " '__doc__',\n",
       " '__eq__',\n",
       " '__format__',\n",
       " '__ge__',\n",
       " '__getattribute__',\n",
       " '__getitem__',\n",
       " '__getnewargs__',\n",
       " '__getslice__',\n",
       " '__gt__',\n",
       " '__hash__',\n",
       " '__init__',\n",
       " '__le__',\n",
       " '__len__',\n",
       " '__lt__',\n",
       " '__mod__',\n",
       " '__mul__',\n",
       " '__ne__',\n",
       " '__new__',\n",
       " '__reduce__',\n",
       " '__reduce_ex__',\n",
       " '__repr__',\n",
       " '__rmod__',\n",
       " '__rmul__',\n",
       " '__setattr__',\n",
       " '__sizeof__',\n",
       " '__str__',\n",
       " '__subclasshook__',\n",
       " '_formatter_field_name_split',\n",
       " '_formatter_parser',\n",
       " 'capitalize',\n",
       " 'center',\n",
       " 'count',\n",
       " 'decode',\n",
       " 'encode',\n",
       " 'endswith',\n",
       " 'expandtabs',\n",
       " 'find',\n",
       " 'format',\n",
       " 'index',\n",
       " 'isalnum',\n",
       " 'isalpha',\n",
       " 'isdecimal',\n",
       " 'isdigit',\n",
       " 'islower',\n",
       " 'isnumeric',\n",
       " 'isspace',\n",
       " 'istitle',\n",
       " 'isupper',\n",
       " 'join',\n",
       " 'ljust',\n",
       " 'lower',\n",
       " 'lstrip',\n",
       " 'partition',\n",
       " 'replace',\n",
       " 'rfind',\n",
       " 'rindex',\n",
       " 'rjust',\n",
       " 'rpartition',\n",
       " 'rsplit',\n",
       " 'rstrip',\n",
       " 'split',\n",
       " 'splitlines',\n",
       " 'startswith',\n",
       " 'strip',\n",
       " 'swapcase',\n",
       " 'title',\n",
       " 'translate',\n",
       " 'upper',\n",
       " 'zfill']"
      ]
     },
     "execution_count": 23,
     "metadata": {},
     "output_type": "execute_result"
    }
   ],
   "source": [
    "# tokens in spaCy have a lot of information\n",
    "dir(tokens[0])"
   ]
  },
  {
   "cell_type": "code",
   "execution_count": 24,
   "metadata": {
    "collapsed": true
   },
   "outputs": [],
   "source": [
    "def print_token(token):\n",
    "    print(\"==========================\")\n",
    "    print(\"value:\",token.orth_)\n",
    "    print(\"lemma:\",token.lemma_) # lemma is the root of a word\n",
    "    print(\"shape:\",token.shape_) # shape is capitalization and punctuation"
   ]
  },
  {
   "cell_type": "code",
   "execution_count": 26,
   "metadata": {},
   "outputs": [
    {
     "name": "stdout",
     "output_type": "stream",
     "text": [
      "==========================\n",
      "('value:', u'He')\n",
      "('lemma:', u'-PRON-')\n",
      "('shape:', u'Xx')\n",
      "==========================\n",
      "('value:', u'ran')\n",
      "('lemma:', u'run')\n",
      "('shape:', u'xxx')\n",
      "==========================\n",
      "('value:', u'to')\n",
      "('lemma:', u'to')\n",
      "('shape:', u'xx')\n",
      "==========================\n",
      "('value:', u'the')\n",
      "('lemma:', u'the')\n",
      "('shape:', u'xxx')\n",
      "==========================\n",
      "('value:', u'store')\n",
      "('lemma:', u'store')\n",
      "('shape:', u'xxxx')\n",
      "==========================\n",
      "('value:', u'because')\n",
      "('lemma:', u'because')\n",
      "('shape:', u'xxxx')\n",
      "==========================\n",
      "('value:', u'he')\n",
      "('lemma:', u'-PRON-')\n",
      "('shape:', u'xx')\n",
      "==========================\n",
      "('value:', u'was')\n",
      "('lemma:', u'be')\n",
      "('shape:', u'xxx')\n",
      "==========================\n",
      "('value:', u'king')\n",
      "('lemma:', u'king')\n",
      "('shape:', u'xxxx')\n",
      "==========================\n",
      "('value:', u'of')\n",
      "('lemma:', u'of')\n",
      "('shape:', u'xx')\n",
      "==========================\n",
      "('value:', u'the')\n",
      "('lemma:', u'the')\n",
      "('shape:', u'xxx')\n",
      "==========================\n",
      "('value:', u'apes')\n",
      "('lemma:', u'ape')\n",
      "('shape:', u'xxxx')\n",
      "==========================\n",
      "('value:', u'.')\n",
      "('lemma:', u'.')\n",
      "('shape:', u'.')\n"
     ]
    }
   ],
   "source": [
    "# Note the lemma for \"ran\" and \"was\"\n",
    "text3 = \"He ran to the store because he was king of the apes.\"\n",
    "tokens = parser(convert_unicode(text3))\n",
    "for token in tokens:\n",
    "    print_token(token)"
   ]
  },
  {
   "cell_type": "code",
   "execution_count": null,
   "metadata": {
    "collapsed": true
   },
   "outputs": [],
   "source": []
  }
 ],
 "metadata": {
  "kernelspec": {
   "display_name": "Python 2",
   "language": "python",
   "name": "python2"
  },
  "language_info": {
   "codemirror_mode": {
    "name": "ipython",
    "version": 2
   },
   "file_extension": ".py",
   "mimetype": "text/x-python",
   "name": "python",
   "nbconvert_exporter": "python",
   "pygments_lexer": "ipython2",
   "version": "2.7.13"
  }
 },
 "nbformat": 4,
 "nbformat_minor": 1
}
