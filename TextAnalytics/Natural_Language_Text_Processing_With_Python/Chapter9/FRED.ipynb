{
 "cells": [
  {
   "cell_type": "markdown",
   "metadata": {},
   "source": [
    "## Description here\n",
    "http://wit.istc.cnr.it/stlab-tools/fred/fredlib\n",
    "\n",
    "## Download this Python file that calls FRED\n",
    "http://wit.istc.cnr.it/stlab-tools/fred/static/fred/fred/fredlib/fredlib.py\n",
    "\n",
    "## Note: must be run in Python 2 \n",
    "Or change print statements in `fredlib.py`\n",
    "\n",
    "## You need rdflib\n",
    "`pip install rdflib`\n",
    "\n",
    "## You need flufl\n",
    "`pip install flufl.enum`"
   ]
  },
  {
   "cell_type": "code",
   "execution_count": 1,
   "metadata": {
    "collapsed": false
   },
   "outputs": [
    {
     "name": "stderr",
     "output_type": "stream",
     "text": [
      "INFO:rdflib:RDFLib Version: 4.2.1\n"
     ]
    }
   ],
   "source": [
    "import fredlib"
   ]
  },
  {
   "cell_type": "code",
   "execution_count": 2,
   "metadata": {
    "collapsed": true
   },
   "outputs": [],
   "source": [
    "def get_nodes(text):\n",
    "    filename_for_rdf = 'fred.rdf' \n",
    "    g = fredlib.getFredGraph(fredlib.preprocessText(text),filename_for_rdf)\n",
    "    return g.getNodes()\n"
   ]
  },
  {
   "cell_type": "code",
   "execution_count": 3,
   "metadata": {
    "collapsed": false
   },
   "outputs": [
    {
     "name": "stdout",
     "output_type": "stream",
     "text": [
      "{'http://schema.org/Place', 'http://www.ontologydesignpatterns.org/ont/dul/DUL.owl#Event', 'http://www.ontologydesignpatterns.org/ont/fred/domain.owl#Go', 'http://dbpedia.org/resource/George_H._W._Bush', 'http://www.ontologydesignpatterns.org/ont/vn/data/Go_47070000', 'http://www.ontologydesignpatterns.org/ont/fred/domain.owl#Chicago', 'http://schema.org/Person', 'http://www.ontologydesignpatterns.org/ont/fred/domain.owl#George_bush', 'http://schema.org/City', 'http://dbpedia.org/resource/Chicago', 'http://www.ontologydesignpatterns.org/ont/fred/domain.owl#go_1'}\n",
      "http://dbpedia.org/resource/George_H._W._Bush\n",
      "http://dbpedia.org/resource/Chicago\n"
     ]
    }
   ],
   "source": [
    "text = 'George Bush went to Chicago.'\n",
    "nodes = get_nodes(text)\n",
    "print(nodes)\n",
    "for n in nodes:\n",
    "    if 'dbpedia' in n:\n",
    "        print(n)"
   ]
  },
  {
   "cell_type": "code",
   "execution_count": null,
   "metadata": {
    "collapsed": true
   },
   "outputs": [],
   "source": []
  }
 ],
 "metadata": {
  "kernelspec": {
   "display_name": "Python 3",
   "language": "python",
   "name": "python3"
  },
  "language_info": {
   "codemirror_mode": {
    "name": "ipython",
    "version": 3
   },
   "file_extension": ".py",
   "mimetype": "text/x-python",
   "name": "python",
   "nbconvert_exporter": "python",
   "pygments_lexer": "ipython3",
   "version": "3.5.2"
  }
 },
 "nbformat": 4,
 "nbformat_minor": 1
}
