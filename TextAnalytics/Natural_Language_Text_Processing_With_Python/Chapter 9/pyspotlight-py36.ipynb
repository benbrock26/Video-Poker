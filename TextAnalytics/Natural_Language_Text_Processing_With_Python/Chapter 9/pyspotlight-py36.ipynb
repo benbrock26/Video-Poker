{
 "cells": [
  {
   "cell_type": "markdown",
   "metadata": {},
   "source": [
    "## pyspotlight here\n",
    "https://github.com/aolieman/pyspotlight"
   ]
  },
  {
   "cell_type": "code",
   "execution_count": 1,
   "metadata": {
    "collapsed": false
   },
   "outputs": [],
   "source": [
    "import spotlight\n",
    "HOST = 'http://spotlight.sztaki.hu:2222/rest/annotate'\n",
    "def get_annotations(text):\n",
    "    try:\n",
    "        annotations = spotlight.annotate(HOST,\n",
    "                                          text,\n",
    "                                         confidence=0.4, support=20)\n",
    "    except spotlight.SpotlightException:\n",
    "        return None # nothing was found\n",
    "    return annotations"
   ]
  },
  {
   "cell_type": "code",
   "execution_count": 2,
   "metadata": {
    "collapsed": false
   },
   "outputs": [
    {
     "name": "stdout",
     "output_type": "stream",
     "text": [
      "[{'similarityScore': 0.8632129315840661, 'offset': 0, 'surfaceForm': 'George Bush', 'support': 13840, 'URI': 'http://dbpedia.org/resource/George_W._Bush', 'types': 'DBpedia:Agent,Schema:Person,Http://xmlns.com/foaf/0.1/Person,DBpedia:Person,DBpedia:OfficeHolder', 'percentageOfSecondRank': 0.1581660169877273}, {'similarityScore': 0.9986112529467162, 'offset': 20, 'surfaceForm': 'Chicago', 'support': 75494, 'URI': 'http://dbpedia.org/resource/Chicago', 'types': 'Schema:Place,DBpedia:Place,DBpedia:PopulatedPlace,DBpedia:Settlement,Schema:City,DBpedia:City', 'percentageOfSecondRank': 0.0006773174909144678}]\n"
     ]
    }
   ],
   "source": [
    "text = 'George Bush went to Chicago.'\n",
    "print(get_annotations(text))"
   ]
  },
  {
   "cell_type": "code",
   "execution_count": 3,
   "metadata": {
    "collapsed": true
   },
   "outputs": [],
   "source": [
    "def get_DBpedia_resources(text):\n",
    "    resources = []\n",
    "    annotations = get_annotations(text)\n",
    "    for a in annotations:\n",
    "        resources.append(a['URI'])\n",
    "    return resources\n",
    "    "
   ]
  },
  {
   "cell_type": "code",
   "execution_count": 4,
   "metadata": {
    "collapsed": false
   },
   "outputs": [
    {
     "name": "stdout",
     "output_type": "stream",
     "text": [
      "['http://dbpedia.org/resource/George_W._Bush', 'http://dbpedia.org/resource/Chicago']\n"
     ]
    }
   ],
   "source": [
    "text = 'George Bush went to Chicago.'\n",
    "print(get_DBpedia_resources(text))"
   ]
  },
  {
   "cell_type": "markdown",
   "metadata": {},
   "source": [
    "## This is just a demo server. If you are going to make a lot of calls, you can run your own server\n",
    "https://github.com/dbpedia-spotlight/dbpedia-spotlight"
   ]
  }
 ],
 "metadata": {
  "kernelspec": {
   "display_name": "Python 3",
   "language": "python",
   "name": "python3"
  },
  "language_info": {
   "codemirror_mode": {
    "name": "ipython",
    "version": 3
   },
   "file_extension": ".py",
   "mimetype": "text/x-python",
   "name": "python",
   "nbconvert_exporter": "python",
   "pygments_lexer": "ipython3",
   "version": "3.5.2"
  }
 },
 "nbformat": 4,
 "nbformat_minor": 1
}
