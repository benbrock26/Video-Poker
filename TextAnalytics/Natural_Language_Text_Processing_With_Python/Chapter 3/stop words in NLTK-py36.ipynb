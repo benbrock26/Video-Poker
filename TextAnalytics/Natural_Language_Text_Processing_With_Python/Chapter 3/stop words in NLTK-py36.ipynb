{
 "cells": [
  {
   "cell_type": "code",
   "execution_count": 2,
   "metadata": {},
   "outputs": [
    {
     "name": "stdout",
     "output_type": "stream",
     "text": [
      "{'that', 'did', 'are', 'am', 'he', \"you'd\", 'up', 'who', 'further', 'when', 'any', 'on', 'both', 'same', 'over', 'him', 'o', 'ma', 'how', 'didn', 'needn', 'such', 'doing', 'before', 'wouldn', 'm', 'its', 'couldn', 'weren', \"don't\", 'll', 'will', 'off', \"she's\", \"wasn't\", 'we', 'yourself', 'until', 'why', 'all', 'other', 'she', 'not', 'don', \"shouldn't\", 'about', 'these', 'ours', \"aren't\", \"you've\", 'her', 'in', 'then', 'd', \"hasn't\", 's', 'his', 'hasn', \"you'll\", 'herself', \"that'll\", 'where', 'y', \"shan't\", 'by', \"needn't\", 'again', 'they', 't', 'been', 'won', 'itself', \"mustn't\", 'which', 'wasn', 'our', 'aren', 'above', 'being', 'after', 'had', \"isn't\", 'some', 'should', 'having', 'down', 'yours', 'has', 'can', 'now', 'the', 'have', 'ain', 'against', 'no', \"weren't\", 'yourselves', 'as', 'with', 'them', 'themselves', 'was', 'here', 'my', 'only', 'myself', 'whom', 'hers', 'i', 'to', 'their', 'each', 'too', 'under', 'and', 'this', 're', 'or', 'it', 'mustn', 'into', 'during', 'few', 'of', 'out', \"wouldn't\", 'if', 'mightn', 'more', \"haven't\", 'does', \"it's\", 'your', 'theirs', \"should've\", 'a', 'hadn', 'from', 'through', 'but', \"mightn't\", 'for', 'at', 'between', 'you', 'while', 'is', 'nor', 'were', 'shouldn', 'be', 'just', 'so', 've', \"doesn't\", 'isn', 'below', 'than', 'what', \"didn't\", 'an', 'shan', 'himself', 'me', 'once', 'there', \"won't\", 'most', 'haven', \"hadn't\", 'do', 'very', 'because', 'own', 'ourselves', \"couldn't\", 'doesn', \"you're\", 'those'}\n"
     ]
    }
   ],
   "source": [
    "import nltk\n",
    "english_stopwords = set(nltk.corpus.stopwords.words('english'))\n",
    "print(english_stopwords)\n",
    "# I used \"set\" because they are fast for checking membership"
   ]
  },
  {
   "cell_type": "code",
   "execution_count": 3,
   "metadata": {},
   "outputs": [
    {
     "name": "stdout",
     "output_type": "stream",
     "text": [
      "{'habremos', 'le', 'mi', 'él', 'serían', 'fuerais', 'he', 'estarás', 'estas', 'tuviste', 'estaréis', 'para', 'fuimos', 'sin', 'fuiste', 'tuyos', 'mías', 'tuvieses', 'tenidos', 'porque', 'al', 'estaríais', 'más', 'una', 'mis', 'o', 'ya', 'nosotras', 'estuviste', 'esto', 'antes', 'estuviéramos', 'fui', 'habida', 'vuestra', 'sintiendo', 'estad', 'tuvieran', 'estadas', 'estuve', 'eres', 'tuvo', 'vosostros', 'quien', 'tengan', 'uno', 'teniendo', 'sentido', 'nuestros', 'algunos', 'tuyo', 'estén', 'durante', 'unos', 'habrían', 'fueras', 'sentida', 'todo', 'sentid', 'tendrían', 'nada', 'suyo', 'yo', 'estamos', 'estabais', 'tiene', 'estábamos', 'mío', 'sois', 'seréis', 'tendrías', 'tendríamos', 'tendríais', 'habré', 'donde', 'tendrán', 'tuvieron', 'los', 'tendréis', 'tenías', 'tened', 'estos', 'hubisteis', 'está', 'eso', 'e', 'contra', 'todos', 'habrás', 'habríais', 'hubiesen', 'tenga', 'tu', 'y', 'con', 'tú', 'sentidas', 'tuviera', 'fuisteis', 'tuyas', 'tuvimos', 'suya', 'habréis', 'tienen', 'entre', 'las', 'soy', 'tenidas', 'cual', 'estemos', 'tenido', 'por', 'habría', 'seré', 'estuvieras', 'son', 'del', 'estar', 'estuvierais', 'hemos', 'estaremos', 'otra', 'estabas', 'estaré', 'estuvieseis', 'seáis', 'tuviéramos', 'muchos', 'habían', 'has', 'eran', 'somos', 'habíamos', 'se', 'mucho', 'tendría', 'ti', 'ellos', 'ni', 'no', 'fuéramos', 'estuvieron', 'estáis', 'fueses', 'tendrás', 'había', 'mía', 'algunas', 'tendremos', 'míos', 'ella', 'tus', 'habido', 'esta', 'fue', 'como', 'estoy', 'estado', 'nosotros', 'estaría', 'hubieses', 'erais', 'fuera', 'tengas', 'tenida', 'mí', 'suyos', 'nuestro', 'serías', 'otras', 'les', 'estados', 'hubo', 'tendrá', 'que', 'estuviese', 'tuviesen', 'fuesen', 'pero', 'siente', 'tenemos', 'tendré', 'tenían', 'éramos', 'tuviésemos', 'estuvisteis', 'ha', 'hubieran', 'de', 'habrán', 'estando', 'han', 'estuvo', 'hubiéramos', 'será', 'suyas', 'otro', 'tanto', 'hubimos', 'hubieron', 'fueseis', 'estuvimos', 'tuvieseis', 'serás', 'algo', 'os', 'sí', 'esas', 'seríamos', 'fuese', 'tenía', 'seamos', 'nos', 'estarían', 'el', 'desde', 'nuestras', 'estéis', 'habiendo', 'teníamos', 'hubiste', 'ese', 'tuvisteis', 'es', 'la', 'otros', 'hayas', 'hubieseis', 'esos', 'habrías', 'tenéis', 'vuestros', 'sean', 'teníais', 'hubiera', 'seas', 'a', 'estaban', 'hayamos', 'habidos', 'fueron', 'un', 'hubierais', 'hubiese', 'habríamos', 'su', 'estuviesen', 'habrá', 'sea', 'sería', 'vuestro', 'estaba', 'estás', 'estuviera', 'tengo', 'ante', 'vosostras', 'estarías', 'tengamos', 'habíais', 'lo', 'sus', 'hube', 'habías', 'te', 'era', 'tuvierais', 'estés', 'nuestra', 'estada', 'fuésemos', 'vuestras', 'estaríamos', 'estuviésemos', 'tuviese', 'haya', 'estará', 'hayan', 'este', 'hubieras', 'fueran', 'estarán', 'hasta', 'están', 'cuando', 'quienes', 'seríais', 'estuvieses', 'hubiésemos', 'habidas', 'en', 'eras', 'habéis', 'me', 'tienes', 'tuvieras', 'estuvieran', 'ellas', 'muy', 'hayáis', 'tuve', 'poco', 'qué', 'tengáis', 'seremos', 'tuya', 'serán', 'esté', 'sentidos', 'esa', 'también', 'sobre', 'hay'}\n"
     ]
    }
   ],
   "source": [
    "spanish_stopwords = set(nltk.corpus.stopwords.words('spanish'))\n",
    "print(spanish_stopwords)"
   ]
  },
  {
   "cell_type": "code",
   "execution_count": 4,
   "metadata": {},
   "outputs": [
    {
     "name": "stdout",
     "output_type": "stream",
     "text": [
      "['chicken', 'went', 'house', 'humiliate', 'man', '.']\n"
     ]
    }
   ],
   "source": [
    "# Here we remove stop words to get the gist of a sentence\n",
    "from nltk.tokenize import word_tokenize\n",
    "text = \"The chicken went to the house to humiliate the man.\"\n",
    "tokens = word_tokenize(text)\n",
    "content_tokens = [token for token in tokens if token.lower() not in english_stopwords]\n",
    "print(content_tokens)"
   ]
  },
  {
   "cell_type": "markdown",
   "metadata": {},
   "source": [
    "## Good time to introduce the NLP bible\n",
    "http://www.cs.colorado.edu/~martin/slp2.html\n",
    "\n",
    "## Third edition in preparation and you can read some of the chapters free online\n",
    "https://web.stanford.edu/~jurafsky/slp3/\n"
   ]
  },
  {
   "cell_type": "code",
   "execution_count": null,
   "metadata": {
    "collapsed": true
   },
   "outputs": [],
   "source": []
  }
 ],
 "metadata": {
  "kernelspec": {
   "display_name": "Python 3",
   "language": "python",
   "name": "python3"
  },
  "language_info": {
   "codemirror_mode": {
    "name": "ipython",
    "version": 3
   },
   "file_extension": ".py",
   "mimetype": "text/x-python",
   "name": "python",
   "nbconvert_exporter": "python",
   "pygments_lexer": "ipython3",
   "version": "3.6.1"
  }
 },
 "nbformat": 4,
 "nbformat_minor": 1
}
