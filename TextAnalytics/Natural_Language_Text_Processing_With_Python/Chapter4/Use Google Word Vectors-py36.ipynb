{
 "cells": [
  {
   "cell_type": "markdown",
   "metadata": {},
   "source": [
    "## We can also download pre-trained vectors here\n",
    "https://code.google.com/archive/p/word2vec/\n",
    "## Gensim provices documentation here\n",
    "https://radimrehurek.com/gensim/models/word2vec.html"
   ]
  },
  {
   "cell_type": "code",
   "execution_count": null,
   "metadata": {},
   "outputs": [],
   "source": [
    "import os\n",
    "print(os.getcwd())"
   ]
  },
  {
   "cell_type": "code",
   "execution_count": null,
   "metadata": {
    "collapsed": true
   },
   "outputs": [],
   "source": [
    "google_vec_absolute_path = \"C:\\\\Users\\\\Ben Brock\\\\Documents\\\\GitHub\\\\Bens_Portfolio\\\\Data_Mining\\\\DataScience-Projects\\\\LDA\\\\Word2Vec\\\\data\\\\\"\n",
    "file_name = '\\\\w2v_googlenews\\\\GoogleNews-vectors-negative300.bin.gz'\n",
    "\n",
    "google_vec_file = google_vec_absolute_path + file_name\n",
    "\n",
    "if not os.path.exists(google_vec_file):\n",
    "    raise ValueError(\"SKIP: You need to download the google news model\")"
   ]
  },
  {
   "cell_type": "code",
   "execution_count": null,
   "metadata": {},
   "outputs": [],
   "source": [
    "%%time\n",
    "import gensim.models.word2vec as word2vec\n",
    "from gensim.models import KeyedVectors\n",
    "#google_vec_file = '/Users/jmugan/workspace/GoogleNews-vectors-negative300.bin'\n",
    "#model = word2vec.Word2Vec.load_word2vec_format(google_vec_file, binary=True)\n",
    "\n",
    "model = KeyedVectors.load_word2vec_format(google_vec_file, binary=True)"
   ]
  },
  {
   "cell_type": "code",
   "execution_count": null,
   "metadata": {},
   "outputs": [],
   "source": [
    "%%time\n",
    "list(model.vocab.keys())[:10]"
   ]
  },
  {
   "cell_type": "code",
   "execution_count": null,
   "metadata": {
    "scrolled": true
   },
   "outputs": [],
   "source": [
    "%%time\n",
    "model['mouse']"
   ]
  },
  {
   "cell_type": "code",
   "execution_count": null,
   "metadata": {
    "collapsed": true
   },
   "outputs": [],
   "source": [
    "%%time\n",
    "# Computes the cosine similarity: between -1 (opposite) and 1 (the same)\n",
    "model.most_similar('mouse')"
   ]
  },
  {
   "cell_type": "code",
   "execution_count": null,
   "metadata": {
    "collapsed": true
   },
   "outputs": [],
   "source": [
    "%%time\n",
    "model.most_similar('house')"
   ]
  },
  {
   "cell_type": "code",
   "execution_count": null,
   "metadata": {
    "collapsed": true
   },
   "outputs": [],
   "source": [
    "%%time\n",
    "model.similarity('cat', 'dog')"
   ]
  },
  {
   "cell_type": "code",
   "execution_count": null,
   "metadata": {
    "collapsed": true
   },
   "outputs": [],
   "source": [
    "%%time\n",
    "model.similarity('cat', 'rock')"
   ]
  },
  {
   "cell_type": "code",
   "execution_count": null,
   "metadata": {
    "collapsed": true
   },
   "outputs": [],
   "source": [
    "%%time\n",
    "# Note, not always semantic similarity. \"Bad\" and \"good\" are opposites, but they\n",
    "# tend to appear with similar words around them, so they have high similarity here.\n",
    "model.similarity('bad', 'good')"
   ]
  },
  {
   "cell_type": "markdown",
   "metadata": {},
   "source": [
    "## We can also download vectors trained over Freebase\n",
    "https://code.google.com/archive/p/word2vec/\n",
    "### Freebase is a knowlege base"
   ]
  },
  {
   "cell_type": "code",
   "execution_count": null,
   "metadata": {},
   "outputs": [],
   "source": [
    "import gensim.models.word2vec as word2vec\n",
    "freebase_file = '/Users/jmugan/workspace/freebase-vectors-skipgram1000-en.bin'\n",
    "model = word2vec.Word2Vec.load_word2vec_format(freebase_file, binary=True)"
   ]
  },
  {
   "cell_type": "code",
   "execution_count": null,
   "metadata": {},
   "outputs": [],
   "source": [
    "# Words start with language, like /en/...\n",
    "list(model.vocab.keys())[:10]"
   ]
  },
  {
   "cell_type": "code",
   "execution_count": null,
   "metadata": {},
   "outputs": [],
   "source": [
    "model['/en/marvin_minsky']"
   ]
  },
  {
   "cell_type": "code",
   "execution_count": null,
   "metadata": {},
   "outputs": [],
   "source": [
    "model.most_similar('/en/pulp_fiction')"
   ]
  },
  {
   "cell_type": "code",
   "execution_count": null,
   "metadata": {
    "collapsed": true
   },
   "outputs": [],
   "source": []
  }
 ],
 "metadata": {
  "kernelspec": {
   "display_name": "Python 3",
   "language": "python",
   "name": "python3"
  },
  "language_info": {
   "codemirror_mode": {
    "name": "ipython",
    "version": 3
   },
   "file_extension": ".py",
   "mimetype": "text/x-python",
   "name": "python",
   "nbconvert_exporter": "python",
   "pygments_lexer": "ipython3",
   "version": "3.6.1"
  }
 },
 "nbformat": 4,
 "nbformat_minor": 1
}
